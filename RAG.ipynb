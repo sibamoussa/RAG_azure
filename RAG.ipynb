{
 "cells": [
  {
   "cell_type": "code",
   "execution_count": 7,
   "metadata": {},
   "outputs": [],
   "source": [
    "import openai\n",
    "import os"
   ]
  },
  {
   "cell_type": "code",
   "execution_count": 10,
   "metadata": {},
   "outputs": [
    {
     "name": "stdout",
     "output_type": "stream",
     "text": [
      "The square root of 500 is approximately 22.3607.\n"
     ]
    }
   ],
   "source": [
    "# Set up Azure OpenAI credentials\n",
    "api_key = '5b44e38776be45d991a247f158ebb9ca'  # or you can directly put the key here\n",
    "endpoint = \"https://sibsm24.openai.azure.com/\"\n",
    "\n",
    "\n",
    "# Configure the OpenAI package to use Azure\n",
    "openai.api_type = \"azure\"\n",
    "openai.api_key = api_key\n",
    "openai.api_base = endpoint  # This is your Azure OpenAI resource endpoint\n",
    "openai.api_version = \"2023-05-15\"  # Use the version corresponding to the Azure OpenAI service you're using\n",
    "\n",
    "context_engineering = \"You are a helpful assistant for Azure OpenAI services.\"\n",
    "request = \"What is the square root of 500\" #type in the request you want to make for the chat \n",
    "\n",
    "response = openai.ChatCompletion.create(\n",
    "    engine=\"gpt-4\",  # Model Deployment name  \n",
    "    messages=[\n",
    "        {\"role\": \"system\", \"content\": context_engineering},\n",
    "        {\"role\": \"user\", \"content\": request}\n",
    "    ]\n",
    ")\n",
    "\n",
    "# Print the response from the assistant\n",
    "print(response['choices'][0]['message']['content'])"
   ]
  }
 ],
 "metadata": {
  "kernelspec": {
   "display_name": "Python 3",
   "language": "python",
   "name": "python3"
  },
  "language_info": {
   "codemirror_mode": {
    "name": "ipython",
    "version": 3
   },
   "file_extension": ".py",
   "mimetype": "text/x-python",
   "name": "python",
   "nbconvert_exporter": "python",
   "pygments_lexer": "ipython3",
   "version": "3.12.6"
  }
 },
 "nbformat": 4,
 "nbformat_minor": 2
}
